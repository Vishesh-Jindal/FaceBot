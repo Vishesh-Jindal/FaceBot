{
 "cells": [
  {
   "cell_type": "markdown",
   "id": "d9235d4f",
   "metadata": {},
   "source": [
    "<center> <h2>Facebook Automator to automate Birthday wishes and to auto add Posts : </h2></center>"
   ]
  },
  {
   "cell_type": "markdown",
   "id": "b3cd56ca",
   "metadata": {},
   "source": [
    "<center><h3>Importing required packages</h3></center>"
   ]
  },
  {
   "cell_type": "code",
   "execution_count": 1,
   "id": "08aa2cf4",
   "metadata": {},
   "outputs": [],
   "source": [
    "from selenium import webdriver\n",
    "from selenium.common.exceptions import NoSuchElementException\n",
    "from selenium.webdriver.common.keys import Keys\n",
    "import getpass\n",
    "import time"
   ]
  },
  {
   "cell_type": "markdown",
   "id": "1a368d2a",
   "metadata": {},
   "source": [
    "<center> <h3>Starting web driver session : </h3></center>"
   ]
  },
  {
   "cell_type": "code",
   "execution_count": 2,
   "id": "29cbe18a",
   "metadata": {},
   "outputs": [],
   "source": [
    "# initiallising webdriver session\n",
    "driver = webdriver.Chrome(executable_path='./webdriver')\n",
    "# visiting facebook.com\n",
    "driver.get(\"https://www.facebook.com/\")"
   ]
  },
  {
   "cell_type": "markdown",
   "id": "bc9ac9a9",
   "metadata": {},
   "source": [
    "<center> <h3>Logging in to Your Profile : </h3></center>"
   ]
  },
  {
   "cell_type": "code",
   "execution_count": 3,
   "id": "d2185d0e",
   "metadata": {},
   "outputs": [],
   "source": [
    "def login():\n",
    "    # locating username and password input element\n",
    "    usernameBox = driver.find_element_by_id(\"email\")\n",
    "    passwordBox = driver.find_element_by_id('pass')\n",
    "\n",
    "    # since username and password are sensitive information, so rather than hardcoding it, taking input from user\n",
    "    my_id = getpass.getpass()\n",
    "    my_pass = getpass.getpass()\n",
    "\n",
    "    # sending username and password to input boxes\n",
    "    usernameBox.send_keys(my_id)\n",
    "    passwordBox.send_keys(my_pass)\n",
    "\n",
    "    # locating LogIn button\n",
    "    loginBtn=driver.find_element_by_xpath('/html/body/div[1]/div[2]/div[1]/div/div/div/div[2]/div/div[1]/form/div[2]/button')\n",
    "    # Logging In\n",
    "    loginBtn.submit()\n",
    "    # adding wait to get all elements loaded\n",
    "    time.sleep(4)"
   ]
  },
  {
   "cell_type": "markdown",
   "id": "f4688a7a",
   "metadata": {},
   "source": [
    "<center> <h3>Wishing Happy Birthday to your Facebook Friends : </h3></center>\n",
    "<img src=\"./imgs/birthday.gif\" width=\"100\">"
   ]
  },
  {
   "cell_type": "code",
   "execution_count": 4,
   "id": "9a43a682",
   "metadata": {},
   "outputs": [],
   "source": [
    "def sendWishes():\n",
    "    try:\n",
    "        # locating and clicking on birthday list shown in right side on home page\n",
    "        birthdayBox=driver.find_element_by_xpath('/html/body/div[1]/div/div[1]/div/div[3]/div/div/div[1]/div[1]/div/div[3]/div/div/div[1]/div/div[1]/div/div/div[1]/div/div/div/div/div[2]/div/div/div/div/a/div[1]/div/div/div/div/div/span')\n",
    "        birthdayBox.click()\n",
    "        \n",
    "        # extracting input forms for all friends who have birthday today\n",
    "        friends = driver.find_element_by_xpath('/html/body/div[1]/div/div[1]/div[1]/div[4]/div/div/div[1]/div/div[2]/div/div/div/div[3]/div/div/div/div')\n",
    "        all_friends = friends.find_elements_by_tag_name('form')\n",
    "        \n",
    "        # wishing each and every friend who have birthday today and are shown in the birthday box\n",
    "        for my_f in list(all_friends):\n",
    "            messageBox = my_f.find_element_by_class_name('_1mf') # finding input element for each friend\n",
    "            messageBox.send_keys(\"Happy Birthday..!!!\") # sending wishes\n",
    "            messageBox.send_keys(Keys.RETURN) # pressing enter to send wishes\n",
    "            time.sleep(3) # adding a wait to avoid any element exception\n",
    "\n",
    "        # finding close option to close Birthday Box\n",
    "        closeBtn=driver.find_element_by_xpath('/html/body/div[1]/div/div[1]/div/div[4]/div/div/div[1]/div/div[2]/div/div/div/div[2]/div')\n",
    "        closeBtn.click()\n",
    "\n",
    "    except NoSuchElementException:\n",
    "        print(\"Already Wished\")\n",
    "    "
   ]
  },
  {
   "cell_type": "markdown",
   "id": "7f150314",
   "metadata": {},
   "source": [
    "<center><h3>Adding Post to Your Profile</h3></center>"
   ]
  },
  {
   "cell_type": "code",
   "execution_count": 5,
   "id": "c3b13f17",
   "metadata": {},
   "outputs": [],
   "source": [
    "def addPost(postText):\n",
    "    \n",
    "    #going to home\n",
    "    facebooklogo=driver.find_element_by_xpath('/html/body/div[1]/div/div[1]/div/div[2]/div[1]/a')\n",
    "    facebooklogo.click()\n",
    "    time.sleep(4)\n",
    "    \n",
    "    # clicking on post area\n",
    "    post=driver.find_element_by_xpath('/html/body/div[1]/div/div[1]/div/div[3]/div/div/div[1]/div[1]/div/div[2]/div/div/div[3]/div/div[2]/div/div/div/div[1]/div')\n",
    "    post.click()\n",
    "    time.sleep(4)\n",
    "    \n",
    "    #switching to post area with which we can interact\n",
    "    activepostarea=driver.switch_to.active_element\n",
    "    activepostarea.send_keys(postText)\n",
    "    \n",
    "    # locating and clicking on submit button\n",
    "    submitBtn=driver.find_element_by_xpath('/html/body/div[1]/div/div[1]/div/div[4]/div/div/div[1]/div/div[2]/div/div/div/form/div/div[1]/div/div/div/div[3]/div[2]/div')\n",
    "    submitBtn.click()\n",
    "    "
   ]
  },
  {
   "cell_type": "markdown",
   "id": "6ca10bc4",
   "metadata": {},
   "source": [
    "<center><h3>Logging Out and Closing Web Driver Session</h3></center>"
   ]
  },
  {
   "cell_type": "code",
   "execution_count": 6,
   "id": "0763fa13",
   "metadata": {},
   "outputs": [],
   "source": [
    "def logout():\n",
    "    \n",
    "    # locating menu button to further click on logout button\n",
    "    menuBtn=driver.find_element_by_xpath('/html/body/div[1]/div/div[1]/div/div[2]/div[4]/div[1]/span/div/div[1]')\n",
    "    # click on menu button to make logout button visible\n",
    "    menuBtn.click()\n",
    "    \n",
    "    # finding logout button\n",
    "    logoutBtn=driver.find_element_by_xpath('/html/body/div[1]/div/div[1]/div/div[2]/div[4]/div[2]/div/div/div[1]/div[1]/div/div/div/div/div/div/div/div/div[1]/div/div[3]/div/div[4]/div')\n",
    "    \n",
    "    # clicking on the logout button\n",
    "    logoutBtn.click()\n",
    "    time.sleep(2)\n",
    "    \n",
    "    # destroying web driver session\n",
    "    driver.quit() \n",
    "    "
   ]
  },
  {
   "cell_type": "markdown",
   "id": "1b2f6daf",
   "metadata": {},
   "source": [
    "<center><h3>Using Features</h3></center>"
   ]
  },
  {
   "cell_type": "code",
   "execution_count": 7,
   "id": "167643b6",
   "metadata": {},
   "outputs": [
    {
     "name": "stdout",
     "output_type": "stream",
     "text": [
      "········\n",
      "········\n"
     ]
    }
   ],
   "source": [
    "login()"
   ]
  },
  {
   "cell_type": "code",
   "execution_count": 8,
   "id": "4d6826b0",
   "metadata": {},
   "outputs": [
    {
     "name": "stdout",
     "output_type": "stream",
     "text": [
      "Already Wished\n"
     ]
    }
   ],
   "source": [
    "sendWishes()"
   ]
  },
  {
   "cell_type": "code",
   "execution_count": 10,
   "id": "ed9b1239",
   "metadata": {},
   "outputs": [],
   "source": [
    "postText=\"Posting for testing Purpose\"\n",
    "addPost(postText)"
   ]
  },
  {
   "cell_type": "code",
   "execution_count": null,
   "id": "9cbd1464",
   "metadata": {},
   "outputs": [],
   "source": [
    "logout()"
   ]
  }
 ],
 "metadata": {
  "kernelspec": {
   "display_name": "Python 3",
   "language": "python",
   "name": "python3"
  },
  "language_info": {
   "codemirror_mode": {
    "name": "ipython",
    "version": 3
   },
   "file_extension": ".py",
   "mimetype": "text/x-python",
   "name": "python",
   "nbconvert_exporter": "python",
   "pygments_lexer": "ipython3",
   "version": "3.8.8"
  }
 },
 "nbformat": 4,
 "nbformat_minor": 5
}
